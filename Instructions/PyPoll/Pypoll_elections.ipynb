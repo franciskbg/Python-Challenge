{
 "cells": [
  {
   "cell_type": "code",
   "execution_count": 25,
   "metadata": {},
   "outputs": [],
   "source": [
    "import os\n",
    "import csv"
   ]
  },
  {
   "cell_type": "code",
   "execution_count": 26,
   "metadata": {},
   "outputs": [],
   "source": [
    "csv_path = os.path.join(\"Resources\", \"election_data.csv\")"
   ]
  },
  {
   "cell_type": "code",
   "execution_count": 27,
   "metadata": {},
   "outputs": [],
   "source": [
    "total_of_votes = 0\n",
    "\n",
    "winner_of_elections = 0\n",
    "\n",
    "total_candidates = 0\n",
    "percentage_of_votes = [\"\",0]\n",
    "\n",
    "candidate_list = []\n",
    "\n",
    "candidate_votes = {}"
   ]
  },
  {
   "cell_type": "code",
   "execution_count": 28,
   "metadata": {},
   "outputs": [],
   "source": [
    "with open(csv_path, newline=\"\",encoding=\"utf-8\") as budget_data:\n",
    "    csv_reader = csv.DictReader(budget_data,delimiter=\",\")\n",
    " \n",
    "    for row in csv_reader:\n",
    "        total_of_votes = total_of_votes + 1\n",
    "        total_candidates = row[\"Candidate\"]        \n",
    "\n",
    "        if row[\"Candidate\"] not in candidate_list:\n",
    "            \n",
    "            candidate_list.append(row[\"Candidate\"])\n",
    "\n",
    "            candidate_votes[row[\"Candidate\"]] = 1\n",
    "            \n",
    "        else:\n",
    "            candidate_votes[row[\"Candidate\"]] = candidate_votes[row[\"Candidate\"]] + 1"
   ]
  },
  {
   "cell_type": "code",
   "execution_count": 39,
   "metadata": {},
   "outputs": [],
   "source": [
    "with open(csv_path, newline=\"\",encoding=\"utf-8\") as budget_data:\n",
    "    csv_reader = csv.DictReader(budget_data,delimiter=\",\")\n",
    "    csv_header = next(csv_reader)\n",
    "    \n",
    "    if (total_of_votes >winner_of_elections):\n",
    "        percentage_of_votes[1] = candidate_votes\n",
    "        percentage_of_votes [0] = row[\"Candidate\"]\n",
    "    \n",
    "    \n"
   ]
  },
  {
   "cell_type": "code",
   "execution_count": 40,
   "metadata": {},
   "outputs": [
    {
     "name": "stdout",
     "output_type": "stream",
     "text": [
      "Election Results\n",
      "-------------------------\n",
      "Total Votes 3521001\n",
      "-------------------------\n",
      "Khan 63% (2218231)\n",
      "Correy 20% (704200)\n",
      "Li 14% (492940)\n",
      "O'Tooley 3% (105630)\n"
     ]
    }
   ],
   "source": [
    "with open(csv_path, newline=\"\",encoding=\"utf-8\") as budget_data:\n",
    "    csv_reader = csv.DictReader(budget_data,delimiter=\",\")\n",
    "    csv_header = next(csv_reader)\n",
    "\n",
    "    print(\"Election Results\")\n",
    "    print(\"-------------------------\")\n",
    "    print(\"Total Votes \" + str(total_of_votes))\n",
    "    print(\"-------------------------\")\n",
    "\n",
    "    for candidate in candidate_votes:\n",
    "        print(candidate + \" \" + str(round(((candidate_votes[candidate]/total_of_votes )*100))) + \"%\" + \" (\" + str(candidate_votes[candidate]) + \")\") \n",
    "        candidate_results = (candidate + \" \" + str(round(((candidate_votes[candidate]/total_of_votes )*100))) + \"%\" + \" (\" + str(candidate_votes[candidate]) + \")\") \n",
    "    \n",
    "\n"
   ]
  },
  {
   "cell_type": "code",
   "execution_count": 41,
   "metadata": {},
   "outputs": [
    {
     "name": "stdout",
     "output_type": "stream",
     "text": [
      "-------------------------\n",
      "Winner: ('Khan', 2218231)\n",
      "-------------------------\n"
     ]
    }
   ],
   "source": [
    "candidate_votes\n",
    "\n",
    "winner = sorted(candidate_votes.items(),)\n",
    "\n",
    "\n",
    "print(\"-------------------------\")\n",
    "print(\"Winner: \" + str(winner[1]))\n",
    "print(\"-------------------------\")\n"
   ]
  },
  {
   "cell_type": "code",
   "execution_count": null,
   "metadata": {},
   "outputs": [],
   "source": []
  },
  {
   "cell_type": "code",
   "execution_count": null,
   "metadata": {},
   "outputs": [],
   "source": []
  }
 ],
 "metadata": {
  "kernelspec": {
   "display_name": "Python 3",
   "language": "python",
   "name": "python3"
  },
  "language_info": {
   "codemirror_mode": {
    "name": "ipython",
    "version": 3
   },
   "file_extension": ".py",
   "mimetype": "text/x-python",
   "name": "python",
   "nbconvert_exporter": "python",
   "pygments_lexer": "ipython3",
   "version": "3.6.5"
  }
 },
 "nbformat": 4,
 "nbformat_minor": 2
}
